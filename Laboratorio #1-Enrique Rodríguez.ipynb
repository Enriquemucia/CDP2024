{
 "cells": [
  {
   "cell_type": "markdown",
   "id": "840910fa-7ef3-49a8-84f1-1ea0dd0a3351",
   "metadata": {},
   "source": [
    "# Git\n",
    "Es un sistema de control de versiones distribuido, diseñado para manejar desde proyectos pequeños a muy grandes con velocidad y eficiencia. Fue creado por Linus Torvalds en 2005 para el desarrollo del kernel de Linux. Git facilita a los desarrolladores la tarea de mantener un historial completo y detallado de todas las modificaciones en el código, permite revertir a versiones anteriores, comparar cambios a lo largo del tiempo, y colaborar con otros desarrolladores en el mismo proyecto de manera eficiente. Cada desarrollador trabaja localmente y puede sincronizar su repositorio con otros repositorios para compartir cambios."
   ]
  },
  {
   "cell_type": "markdown",
   "id": "3230b160-2f77-43fd-901a-a4ecb72a14ba",
   "metadata": {},
   "source": [
    "# GitHub\n",
    "Es una plataforma de hospedaje de código para control de versiones y colaboración. Permite a los desarrolladores almacenar y gestionar su código, así como seguir y contribuir a otros proyectos, todo dentro de una interfaz web. GitHub se basa en el sistema de control de versiones Git, añadiendo sus propias características como la gestión de tareas e incidencias, solicitudes de extracción (pull requests), gestión de proyectos, integración continua, entre otros. Desde su lanzamiento en 2008, GitHub se ha convertido en una herramienta esencial para millones de desarrolladores y empresas de todo el mundo para colaborar en proyectos de software."
   ]
  },
  {
   "cell_type": "markdown",
   "id": "2dc2026d-a67e-4e62-bda0-27b5e519283b",
   "metadata": {},
   "source": [
    "# MagicCells\n",
    "Las MagicCells en Jupyter Notebook son comandos especiales que permiten a los usuarios ejecutar ciertas tareas, como correr comandos de shell directamente desde las celdas del notebook."
   ]
  },
  {
   "cell_type": "code",
   "execution_count": 1,
   "id": "cd7e9213-6eaf-433e-abe6-402e685173df",
   "metadata": {
    "tags": []
   },
   "outputs": [
    {
     "data": {
      "text/plain": [
       "'https://github.com/Enriquemucia/CDP2024.git'"
      ]
     },
     "execution_count": 1,
     "metadata": {},
     "output_type": "execute_result"
    }
   ],
   "source": [
    "github_link = \"https://github.com/Enriquemucia/CDP2024.git\"\n",
    "github_link\n"
   ]
  }
 ],
 "metadata": {
  "kernelspec": {
   "display_name": "Python 3 (ipykernel)",
   "language": "python",
   "name": "python3"
  },
  "language_info": {
   "codemirror_mode": {
    "name": "ipython",
    "version": 3
   },
   "file_extension": ".py",
   "mimetype": "text/x-python",
   "name": "python",
   "nbconvert_exporter": "python",
   "pygments_lexer": "ipython3",
   "version": "3.11.5"
  }
 },
 "nbformat": 4,
 "nbformat_minor": 5
}
